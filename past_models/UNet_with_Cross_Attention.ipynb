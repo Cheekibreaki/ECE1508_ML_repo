{
  "cells": [
    {
      "cell_type": "markdown",
      "metadata": {
        "id": "XSumKqb_uR1o"
      },
      "source": [
        "# For cross attention and Unet investigation"
      ]
    },
    {
      "cell_type": "code",
      "execution_count": 208,
      "metadata": {
        "colab": {
          "base_uri": "https://localhost:8080/"
        },
        "id": "Bey_YkRVt-rO",
        "outputId": "0908fe99-4772-422a-a78b-d274a40f8348"
      },
      "outputs": [
        {
          "name": "stdout",
          "output_type": "stream",
          "text": [
            "Drive already mounted at /content/drive; to attempt to forcibly remount, call drive.mount(\"/content/drive\", force_remount=True).\n",
            "replace /content/dataset/abstract_monochrome_patterned_outerwear_coat.png? [y]es, [n]o, [A]ll, [N]one, [r]ename: no\n",
            "replace /content/dataset/__MACOSX/._abstract_monochrome_patterned_outerwear_coat.png? [y]es, [n]o, [A]ll, [N]one, [r]ename: "
          ]
        }
      ],
      "source": [
        "from google.colab import drive\n",
        "drive.mount('/content/drive')\n",
        "\n",
        "!unzip -q \"/content/drive/MyDrive/Colab Notebooks/ECE1508/Project/dataset.zip\" -d /content/dataset"
      ]
    },
    {
      "cell_type": "code",
      "execution_count": 211,
      "metadata": {
        "id": "Ip7fxjXKuRY1"
      },
      "outputs": [],
      "source": [
        "import torch\n",
        "import torch.nn as nn\n",
        "import torch.nn.functional as F\n",
        "import torch.optim as optim\n",
        "from torch.utils.data import DataLoader, Dataset\n",
        "from torchvision import datasets, transforms\n",
        "from PIL import Image\n",
        "import numpy as np\n",
        "from tqdm import tqdm\n",
        "import matplotlib.pyplot as plt\n",
        "from transformers import BertModel, BertTokenizer, BertConfig\n",
        "import os\n",
        "import matplotlib.pyplot as plt\n",
        "import math"
      ]
    },
    {
      "cell_type": "code",
      "execution_count": 212,
      "metadata": {
        "colab": {
          "base_uri": "https://localhost:8080/"
        },
        "id": "lTsYQaN4ueOh",
        "outputId": "545cba5b-be5c-4adb-81ee-3cd085bb7729"
      },
      "outputs": [
        {
          "name": "stdout",
          "output_type": "stream",
          "text": [
            "currently running on cuda\n"
          ]
        }
      ],
      "source": [
        "# assign device\n",
        "device = torch.device(\"cuda\" if torch.cuda.is_available() else \"cpu\")\n",
        "print(f\"currently running on {device}\")"
      ]
    },
    {
      "cell_type": "markdown",
      "metadata": {
        "id": "KXQ12seTu78i"
      },
      "source": [
        "# BERT Class"
      ]
    },
    {
      "cell_type": "code",
      "execution_count": null,
      "metadata": {
        "id": "bYrHdPhluguE"
      },
      "outputs": [],
      "source": [
        "# Dataset Class\n",
        "class FashionCaptionDataset(Dataset):\n",
        "    def __init__(self, root_dir):\n",
        "        self.root_dir = root_dir\n",
        "        self.image_files = [f for f in os.listdir(root_dir) if f.endswith('.png')]\n",
        "        self.transform = transforms.Compose([\n",
        "            transforms.Grayscale(num_output_channels=1),\n",
        "            transforms.ToTensor(),\n",
        "            transforms.Lambda(lambda x: x * 2. - 1.) # map to [-1,1] for centered training\n",
        "        ])\n",
        "\n",
        "\n",
        "    def __len__(self):\n",
        "        return len(self.image_files)\n",
        "\n",
        "    def __getitem__(self, idx):\n",
        "        img_path = os.path.join(self.root_dir, self.image_files[idx])\n",
        "        image = Image.open(img_path).convert('RGB')\n",
        "\n",
        "        # Extract caption from filename\n",
        "        caption = self.image_files[idx].replace('.png', '')\n",
        "        caption = caption.replace('_', ' ').replace('.', ' ')\n",
        "        caption = ' '.join(caption.split())  # Clean extra spaces\n",
        "\n",
        "        return self.transform(image), caption\n",
        "\n",
        "class TextEncoder(nn.Module):\n",
        "    def __init__(self):\n",
        "        super().__init__()\n",
        "        self.tokenizer = BertTokenizer.from_pretrained('bert-base-uncased')\n",
        "        self.bert = BertModel.from_pretrained('bert-base-uncased')\n",
        "        self.proj = nn.Linear(768, 128)  # Project to smaller dimension\n",
        "\n",
        "        # Freeze BERT parameters\n",
        "        for param in self.bert.parameters():\n",
        "            param.requires_grad = False\n",
        "\n",
        "    def forward(self, captions):\n",
        "        inputs = self.tokenizer(\n",
        "            captions,\n",
        "            padding=True,\n",
        "            truncation=True,\n",
        "            max_length=32,\n",
        "            return_tensors=\"pt\"\n",
        "        ).to(device)\n",
        "\n",
        "        outputs = self.bert(**inputs)\n",
        "        pooled = outputs.last_hidden_state  \n",
        "        return self.proj(pooled)"
      ]
    },
    {
      "cell_type": "code",
      "execution_count": 214,
      "metadata": {
        "colab": {
          "base_uri": "https://localhost:8080/"
        },
        "id": "u7wnoeTzu-um",
        "outputId": "7638d463-354e-4950-f50d-e2eb1a26ac82"
      },
      "outputs": [
        {
          "name": "stdout",
          "output_type": "stream",
          "text": [
            "96\n"
          ]
        }
      ],
      "source": [
        "# something is not right\n",
        "\n",
        "#ds = FashionCaptionDataset('/content/drive/MyDrive/Colab Notebooks/ECE1508/Project/mini_dataset')\n",
        "ds = FashionCaptionDataset('/content/dataset')\n",
        "print(len(ds))\n",
        "test_size = int(0.2 * len(ds))\n",
        "train_size = len(ds) - test_size\n",
        "train_ds, test_ds = torch.utils.data.random_split(ds, [train_size, test_size])\n",
        "train_loader = DataLoader(train_ds, batch_size=6, shuffle=True)\n",
        "test_loader = DataLoader(test_ds, batch_size=6, shuffle=False)"
      ]
    },
    {
      "cell_type": "code",
      "execution_count": 215,
      "metadata": {
        "colab": {
          "base_uri": "https://localhost:8080/",
          "height": 546
        },
        "id": "tNvri-IdvUed",
        "outputId": "6b81aa5d-d51d-47a1-dcd4-11d07018dcfc"
      },
      "outputs": [
        {
          "name": "stdout",
          "output_type": "stream",
          "text": [
            "(5, 10, 128)\n"
          ]
        },
        {
          "data": {
            "image/png": "[encoded data removed]",
            "text/plain": [
              "<Figure size 1500x500 with 5 Axes>"
            ]
          },
          "metadata": {},
          "output_type": "display_data"
        },
        {
          "name": "stdout",
          "output_type": "stream",
          "text": [
            "\n",
            "Caption 1: elegant fitted long sleeves dress\n",
            "Embedding shape: (10, 128)\n",
            "\n",
            "Caption 2: flowing elegant evening gown dress\n",
            "Embedding shape: (10, 128)\n",
            "\n",
            "Caption 3: sporty low profile laceup sneaker\n",
            "Embedding shape: (10, 128)\n",
            "\n",
            "Caption 4: soft minimalist casual wear t shirt top\n",
            "Embedding shape: (10, 128)\n",
            "\n",
            "Caption 5: buttoned classic winter outerwear coat\n",
            "Embedding shape: (10, 128)\n"
          ]
        }
      ],
      "source": [
        "# Get one batch\n",
        "x_batch, y_batch = next(iter(train_loader))  # x: [B, 1, 28, 28], y: list of captions\n",
        "x_batch = x_batch[:5]  # select first 5 samples\n",
        "y_batch = y_batch[:5]  # corresponding captions\n",
        "\n",
        "# Send to device and encode\n",
        "x_batch = x_batch.to(device)\n",
        "text_encoder = TextEncoder().to(device)\n",
        "\n",
        "\n",
        "with torch.no_grad():\n",
        "    text_embeddings = text_encoder(y_batch).cpu().numpy()  # shape: [5, N, 128]\n",
        "    print(text_embeddings.shape)\n",
        "# Plot images and print embeddings\n",
        "fig, axs = plt.subplots(1, 5, figsize=(15, 5))\n",
        "for i in range(5):\n",
        "    axs[i].imshow((x_batch[i].cpu().squeeze() + 1) / 2, cmap='gray')  # inverse normalize\n",
        "    axs[i].axis('off')\n",
        "    axs[i].set_title(f\"{y_batch[i]}\", fontsize=10)\n",
        "\n",
        "plt.tight_layout()\n",
        "plt.show()\n",
        "\n",
        "# Show text embedding summaries\n",
        "for i in range(5):\n",
        "    print(f\"\\nCaption {i+1}: {y_batch[i]}\")\n",
        "    print(f\"Embedding shape: {text_embeddings[i].shape}\")\n",
        "    # print(f\"Embedding values: {text_embeddings[i][:]}\")"
      ]
    },
    {
      "cell_type": "markdown",
      "metadata": {
        "id": "U7pxFUiKqBDZ"
      },
      "source": [
        "# Converting images from pixels to Patches"
      ]
    },
    {
      "cell_type": "code",
      "execution_count": 216,
      "metadata": {
        "colab": {
          "base_uri": "https://localhost:8080/"
        },
        "id": "_tC_MsEMp78y",
        "outputId": "7fc81a84-5e53-4c43-8074-162df20695bb"
      },
      "outputs": [
        {
          "name": "stdout",
          "output_type": "stream",
          "text": [
            "torch.Size([5, 1, 28, 28])\n",
            "torch.Size([5, 1, 7, 7, 4, 4])\n",
            "torch.Size([5, 7, 7, 1, 4, 4])\n"
          ]
        }
      ],
      "source": [
        "def convert_image_to_patches(image, patch_size = 4):\n",
        "  B, ch, weight, height = image.shape\n",
        "\n",
        "  patch = image.unfold(2, patch_size, patch_size).unfold(3, patch_size, patch_size)\n",
        "  print(patch.shape)\n",
        "  patch = patch.permute(0, 2, 3, 1, 4, 5) # [B, patch_height, patch_width, ch, patch_size, patch_size]\n",
        "  print(patch.shape)\n",
        "  patch = patch.contiguous().view(B, -1, ch * patch_size * patch_size) # [B, patch_number, patch_size ** 2]\n",
        "  return patch\n",
        "\n",
        "\n",
        "print(x_batch.shape)\n",
        "image_patch = convert_image_to_patches(x_batch, 4)"
      ]
    },
    {
      "cell_type": "markdown",
      "metadata": {
        "id": "MbrBrTc20cqZ"
      },
      "source": [
        "# Cross Attention between text and image in embedding space"
      ]
    },
    {
      "cell_type": "code",
      "execution_count": 217,
      "metadata": {
        "id": "q05vyg6L0cY6"
      },
      "outputs": [],
      "source": [
        "# Text to image cross attention between text to image\n",
        "class CrossAttention(nn.Module):\n",
        "  def __init__(self, dim_q, dim_k_v, head=4, dim_head=32, bias_setting=False):\n",
        "    \"\"\"\n",
        "    dim_q: dimension of query --> here should be the embedding size of image features\n",
        "    dim_k_v: dimension of key and value --> shoube the embedding size of text features\n",
        "    head: number of heads\n",
        "    dim_head: dimension of each head\n",
        "    bias_setting: whether to use bias in the linear layers\n",
        "    \"\"\"\n",
        "    super(CrossAttention, self).__init__()\n",
        "    self.head = head\n",
        "    self.dim_head = dim_head\n",
        "    self.scale = self.dim_head ** -0.5\n",
        "\n",
        "\n",
        "    self.q = nn.Linear(dim_q, self.dim_head * head, bias=bias_setting)\n",
        "    self.k = nn.Linear(dim_k_v, self.dim_head * head, bias=bias_setting)\n",
        "    self.v = nn.Linear(dim_k_v, self.dim_head * head, bias=bias_setting)\n",
        "    self.out = nn.Linear(self.dim_head * head, dim_q)\n",
        "\n",
        "  def forward(self, image_query, text_context):\n",
        "    \"\"\"\n",
        "    image_query: used for the image [BS, N_query, dim_q]\n",
        "    text_context: used for the text [BS, N_context, dim_k_v]\n",
        "    for all N_query and N_context: N the number of tokens in the sequence\n",
        "    for image: for a patch of 16 * 16 --> (256 / 16) * (256 / 16) = 256 --> basically to prevent image token to be too long\n",
        "    \"\"\"\n",
        "    BS = image_query.shape[0]\n",
        "    N_query = image_query.shape[1]\n",
        "    N_context = text_context.shape[1]\n",
        "\n",
        "    # for multi head\n",
        "    # [B, heads, Nq, dim_q]\n",
        "    q = self.q(image_query)\n",
        "    q = q.view(BS, N_query, self.head, self.dim_head).transpose(1, 2)\n",
        "\n",
        "    k = self.k(text_context)\n",
        "    k = k.view(BS, N_context, self.head, self.dim_head).transpose(1, 2)\n",
        "\n",
        "    v = self.v(text_context)\n",
        "    v = v.view(BS, N_context, self.head, self.dim_head).transpose(1, 2)\n",
        "\n",
        "    # compute attention\n",
        "    score = torch.matmul(q, k.transpose(-1, -2)) * self.scale\n",
        "    weights = F.softmax(score, dim=-1)\n",
        "    output = torch.matmul(weights, v)\n",
        "\n",
        "    output = output.transpose(1, 2)\n",
        "    return self.out(output.reshape(BS, N_query, -1)) #[B, N_image, patch_size ** 2]\n",
        "\n"
      ]
    },
    {
      "cell_type": "code",
      "execution_count": 218,
      "metadata": {
        "colab": {
          "base_uri": "https://localhost:8080/"
        },
        "id": "XPJWObRUdS_a",
        "outputId": "de1cd982-abdf-4600-ae44-85ff066c31de"
      },
      "outputs": [
        {
          "name": "stdout",
          "output_type": "stream",
          "text": [
            "torch.Size([2, 50, 16])\n"
          ]
        }
      ],
      "source": [
        "# some testing coding\n",
        "# Simulate image tokens\n",
        "B, N_img, dim_img = 2, 49 + 1, 4 * 4\n",
        "image_tokens = torch.randn(B, N_img, dim_img)\n",
        "\n",
        "# Simulate text tokens\n",
        "N_text, dim_text = 32, 768\n",
        "text_tokens = torch.randn(B, N_text, dim_text)\n",
        "\n",
        "# Instantiate and test\n",
        "attn = CrossAttention(dim_q=16, dim_k_v=768, head=4)\n",
        "out = attn(image_tokens, text_tokens)  # [B, 256, 512]\n",
        "print(out.shape)"
      ]
    },
    {
      "cell_type": "markdown",
      "metadata": {
        "id": "bat-aKFWfzIQ"
      },
      "source": [
        "# Self-attention on the pixels"
      ]
    },
    {
      "cell_type": "code",
      "execution_count": 219,
      "metadata": {
        "id": "ZgNtSEmmf39Y"
      },
      "outputs": [],
      "source": [
        "class ImageSelfAttention(nn.Module):\n",
        "  def __init__(self, dim, heads=8, dim_head=64, bias_setting=False):\n",
        "    super(ImageSelfAttention, self).__init__()\n",
        "    self.head = heads\n",
        "    self.scale = dim_head ** -0.5\n",
        "\n",
        "    self.q = nn.Linear(dim, dim_head * heads, bias=bias_setting)\n",
        "    self.k = nn.Linear(dim, dim_head * heads, bias=bias_setting)\n",
        "    self.v = nn.Linear(dim, dim_head * heads, bias=bias_setting)\n",
        "    self.out = nn.Linear(dim_head * heads, dim)\n",
        "\n",
        "  def forward(self, x):\n",
        "    \"\"\"\n",
        "    x: [B, N, dim]\n",
        "    \"\"\"\n",
        "    BS = x.shape[0]\n",
        "    N = x.shape[1]\n",
        "\n",
        "    q = self.q(x)\n",
        "    q = q.view(BS, N, self.head, -1).transpose(1, 2)\n",
        "\n",
        "    k = self.k(x)\n",
        "    k = k.view(BS, N, self.head, -1).transpose(1, 2)\n",
        "\n",
        "    v = self.v(x)\n",
        "    v = v.view(BS, N, self.head, -1).transpose(1, 2)\n",
        "\n",
        "    # compute self attention\n",
        "    score = torch.matmul(q, k.transpose(-1, -2)) * self.scale\n",
        "    weights = F.softmax(score, dim=-1)\n",
        "    output = torch.matmul(weights, v)\n",
        "\n",
        "    output = output.transpose(1, 2)\n",
        "    return self.out(output.reshape(BS, N, -1))\n"
      ]
    },
    {
      "cell_type": "code",
      "execution_count": 220,
      "metadata": {
        "colab": {
          "base_uri": "https://localhost:8080/"
        },
        "id": "vCXI_sVdjQ3J",
        "outputId": "44a44388-f600-4e0d-ccee-6d39b6c8ad86"
      },
      "outputs": [
        {
          "name": "stdout",
          "output_type": "stream",
          "text": [
            "tensor([[[-0.0631,  0.0416,  0.0645,  ..., -0.0317, -0.0003,  0.0143],\n",
            "         [-0.0572,  0.0439,  0.0620,  ..., -0.0231, -0.0113,  0.0109],\n",
            "         [-0.0512,  0.0501,  0.0491,  ..., -0.0189, -0.0022,  0.0197],\n",
            "         ...,\n",
            "         [-0.0688,  0.0464,  0.0680,  ..., -0.0235,  0.0018,  0.0095],\n",
            "         [-0.0505,  0.0315,  0.0729,  ..., -0.0195,  0.0088,  0.0083],\n",
            "         [-0.0560,  0.0207,  0.0618,  ..., -0.0207,  0.0045,  0.0255]],\n",
            "\n",
            "        [[-0.0090,  0.0385,  0.0403,  ...,  0.0156, -0.0069,  0.0247],\n",
            "         [ 0.0063,  0.0422,  0.0421,  ...,  0.0139, -0.0036,  0.0252],\n",
            "         [ 0.0148,  0.0384,  0.0651,  ...,  0.0241, -0.0100,  0.0299],\n",
            "         ...,\n",
            "         [ 0.0060,  0.0385,  0.0468,  ...,  0.0146, -0.0087,  0.0166],\n",
            "         [ 0.0075,  0.0569,  0.0534,  ..., -0.0046, -0.0024,  0.0375],\n",
            "         [ 0.0124,  0.0315,  0.0376,  ...,  0.0022,  0.0067,  0.0325]]],\n",
            "       grad_fn=<ViewBackward0>)\n"
          ]
        }
      ],
      "source": [
        "B, N, dim = 2, 256, 28*28\n",
        "image_token = torch.randn(B, N, dim)\n",
        "self_attn = ImageSelfAttention(dim=dim, heads=8, dim_head=64)\n",
        "out = self_attn(image_token)\n",
        "print(out)"
      ]
    },
    {
      "cell_type": "markdown",
      "metadata": {
        "id": "PLnPAm9kx3IY"
      },
      "source": [
        "# Attention_block"
      ]
    },
    {
      "cell_type": "markdown",
      "metadata": {
        "id": "M4mB8eTbmzsN"
      },
      "source": [
        "https://arxiv.org/pdf/2112.10752"
      ]
    },
    {
      "cell_type": "code",
      "execution_count": 221,
      "metadata": {
        "id": "osjRrS3CwJew"
      },
      "outputs": [],
      "source": [
        "# class SelfCrossAttentionBlock(nn.Module):\n",
        "#   def __init__(self, dim_q, dim_k_v, heads, dim_head, bias_setting = False, linear_scale = 2, dropout = 0.0):\n",
        "#     super(SelfCrossAttentionBlock, self).__init__()\n",
        "#     self.cross_attention = CrossAttention(dim_q, dim_k_v, heads, dim_head, bias_setting)\n",
        "#     self.image_self_attention = ImageSelfAttention(dim_q, heads, dim_head, bias_setting)\n",
        "#     self.dropout = nn.Dropout(dropout)\n",
        "\n",
        "#     self.layer_norm_1 = nn.LayerNorm(dim_q)\n",
        "#     self.layer_norm_2 = nn.LayerNorm(dim_q)\n",
        "#     self.layer_norm_3 = nn.LayerNorm(dim_q)\n",
        "\n",
        "#     self.mlp = nn.Sequential(\n",
        "#         nn.Linear(dim_q, dim_q * linear_scale),\n",
        "#         nn.GELU(),\n",
        "#         nn.Dropout(dropout),\n",
        "#         nn.Linear(dim_q * linear_scale, dim_q)\n",
        "#     )\n",
        "\n",
        "#   def forward(self, image, text):\n",
        "#     if image.ndim == 4:\n",
        "#         B, C, H, W = image.shape\n",
        "#         image = image.view(B, C, H * W) # [B, H*W, C]\n",
        "#     elif image.ndim == 3:\n",
        "#         B, N, D = image.shape\n",
        "#         dim_q = N\n",
        "\n",
        "#     # image = image + self.image_self_attention(self.layer_norm_1(image)) // Omit for now\n",
        "#     image = image + self.cross_attention(self.layer_norm_2(image), text)\n",
        "#     image = image + self.mlp(self.layer_norm_3(image))\n",
        "\n",
        "#     return image\n"
      ]
    },
    {
      "cell_type": "code",
      "execution_count": 222,
      "metadata": {
        "id": "MlDEou9ByrMs"
      },
      "outputs": [],
      "source": [
        "class CrossAttentionBlock(nn.Module):\n",
        "  def __init__(self, dim_q, dim_k_v, head=4, dim_head=32, linear_scale=2, bias_settings=False, dropout=0.0):\n",
        "    super(CrossAttentionBlock, self).__init__()\n",
        "    self.dim_q = dim_q\n",
        "    self.dim_k_v = dim_k_v\n",
        "    self.head = head\n",
        "    self.dim_head = dim_head\n",
        "    self.time_embedding = time_embedding\n",
        "    self.time_embedding = self.time_embedding.to(device)\n",
        "\n",
        "    # layer norms\n",
        "    self.layer_norm_attn = nn.LayerNorm(dim_q)\n",
        "    self.layer_norm_mlp = nn.LayerNorm(dim_q)\n",
        "\n",
        "    # self attention on images\n",
        "    # for now ignore\n",
        "\n",
        "    # MLP\n",
        "    self.mlp = nn.Sequential(\n",
        "        nn.Linear(dim_q, dim_q * linear_scale),\n",
        "        nn.GELU(),\n",
        "        nn.Dropout(dropout),\n",
        "        nn.Linear(dim_q * linear_scale, dim_q)\n",
        "    )\n",
        "\n",
        "    # cross attention\n",
        "    self.cross_attn = CrossAttention(dim_q, dim_k_v, head, dim_head, bias_settings)\n",
        "\n",
        "  def forward(self, image, text, timestamp):\n",
        "    # code begins below\n",
        "    image = image + timestamp\n",
        "    image = self.layer_norm_attn(image)\n",
        "    image = image + self.cross_attn(image, text)\n",
        "    image = self.layer_norm_mlp(image)\n",
        "    image = image + self.mlp(image)\n",
        "\n",
        "    return image\n",
        "\n",
        "\n"
      ]
    },
    {
      "cell_type": "code",
      "execution_count": 223,
      "metadata": {
        "colab": {
          "base_uri": "https://localhost:8080/"
        },
        "id": "bBipQrNZrL0K",
        "outputId": "773bb9de-ded0-42cc-8ac0-62381af8220f"
      },
      "outputs": [
        {
          "name": "stdout",
          "output_type": "stream",
          "text": [
            "torch.Size([4, 49, 784])\n"
          ]
        }
      ],
      "source": [
        "# Image tokens\n",
        "image_tokens = torch.randn(4, 49, 28*28)  # e.g. 16x16 patches → N=256, dim=512\n",
        "\n",
        "# Text tokens\n",
        "text_embeddings = torch.randn(4, 32, 768)  # e.g. from T5 or CLIP\n",
        "\n",
        "# time embedding\n",
        "time_embedding = torch.randn(4, 1, 28*28)\n",
        "\n",
        "block = CrossAttentionBlock(dim_q = 28 * 28, dim_k_v=768,  head=8, dim_head=64)\n",
        "out = block(image_tokens, text_embeddings, time_embedding)\n",
        "print(out.shape)\n"
      ]
    },
    {
      "cell_type": "code",
      "execution_count": 224,
      "metadata": {
        "id": "1lrOmWXQ0ZEC"
      },
      "outputs": [],
      "source": [
        "def cal_conv2d_shape(width, kernel_size, stride, padding):\n",
        "    new_width = (width - kernel_size + 2 * padding) // stride + 1\n",
        "    new_height = new_width\n",
        "    return new_width, new_height\n",
        "\n",
        "def transpose_conv2d_output_shape(input_size, kernel_size, stride, padding, output_padding=0):\n",
        "    new_weight = (input_size - 1) * stride - 2 * padding + kernel_size + output_padding\n",
        "    new_height = new_weight\n",
        "    return new_weight, new_height"
      ]
    },
    {
      "cell_type": "markdown",
      "metadata": {
        "id": "37i9jjprsdVL"
      },
      "source": [
        "# Unet V1"
      ]
    },
    {
      "cell_type": "code",
      "execution_count": 225,
      "metadata": {
        "id": "-VP1d4WvNQgV"
      },
      "outputs": [],
      "source": [
        "class UNet(nn.Module):\n",
        "  def __init__(self, channel, time_dim, cnn_params, trans_cnn_params, attn_params, bias_settings=False, linear_scale=2, dropout=0.0):\n",
        "    super(UNet, self).__init__()\n",
        "    self.channel = channel\n",
        "    self.bias_settings = bias_settings\n",
        "    self.linear_scale = linear_scale\n",
        "    self.dropout = dropout\n",
        "    self.time_dim = time_dim\n",
        "\n",
        "    self.relu = nn.ReLU()\n",
        "\n",
        "    # ----- Encoder Convs -----\n",
        "    self.conv1 = nn.Conv2d(channel,\n",
        "                           cnn_params['inter_layer_channel'],\n",
        "                           cnn_params['kernel_size_1'],\n",
        "                           cnn_params['stride_1'],\n",
        "                           cnn_params['padding_1'],\n",
        "                           bias=bias_settings)\n",
        "\n",
        "    self.conv2 = nn.Conv2d(cnn_params['inter_layer_channel'],\n",
        "                           cnn_params['inter_layer_channel_2'],\n",
        "                           cnn_params['kernel_size_2'],\n",
        "                           cnn_params['stride_2'],\n",
        "                           cnn_params['padding_2'],\n",
        "                           bias=bias_settings)\n",
        "\n",
        "    # ----- Decoder Transpose Convs -----\n",
        "    self.deconv1 = nn.ConvTranspose2d(cnn_params['inter_layer_channel_2'],\n",
        "                                      trans_cnn_params['inter_layer_channel_1'],\n",
        "                                      trans_cnn_params['kernel_size_trans_1'],\n",
        "                                      trans_cnn_params['stride_trans_1'],\n",
        "                                      trans_cnn_params['padding_trans_1'],\n",
        "                                      trans_cnn_params['output_padding_trans_1'],\n",
        "                                      bias=bias_settings)\n",
        "\n",
        "    self.deconv2 = nn.ConvTranspose2d(trans_cnn_params['inter_layer_channel_1'],\n",
        "                                      channel,\n",
        "                                      trans_cnn_params['kernel_size_trans_2'],\n",
        "                                      trans_cnn_params['stride_trans_2'],\n",
        "                                      trans_cnn_params['padding_trans_2'],\n",
        "                                      trans_cnn_params['output_padding_trans_2'],\n",
        "                                      bias=bias_settings)\n",
        "\n",
        "\n",
        "    # -------- attn (bottleneck) --------\n",
        "    self.bn_layer_norm = nn.LayerNorm(cnn_params['inter_layer_channel_2'])\n",
        "\n",
        "    self.attn_dim_q = attn_params['dim_q']\n",
        "    self.attn_dim_k_v = attn_params['dim_k_v']\n",
        "    self.attn_dim_timestamp = attn_params['dim_timestamp']\n",
        "    self.attn_head = attn_params['head']\n",
        "    self.attn_dim_head = attn_params['dim_head']\n",
        "    self.T = attn_params['T'] # this is the number of stacked attention blocks\n",
        "\n",
        "    # attention blocks according to T\n",
        "    self.attn_blocks = nn.ModuleList([\n",
        "        CrossAttentionBlock(\n",
        "            dim_q = self.attn_dim_head * self.attn_head,\n",
        "            dim_k_v=self.attn_dim_k_v,\n",
        "            head=self.attn_head,\n",
        "            dim_head=self.attn_dim_head\n",
        "        )\n",
        "        for _ in range(self.T)\n",
        "    ])\n",
        "\n",
        "\n",
        "    # ------- time projections -------\n",
        "\n",
        "    self.time_proj = nn.Sequential(\n",
        "        nn.Linear(self.time_dim, self.channel),\n",
        "        nn.SiLU(),\n",
        "    )\n",
        "\n",
        "    self.time_proj_2 = nn.Sequential(\n",
        "        nn.Linear(cnn_params[\"inter_layer_channel_2\"], linear_scale * cnn_params[\"inter_layer_channel_2\"]),\n",
        "        nn.SiLU(),\n",
        "        nn.Linear(linear_scale * cnn_params[\"inter_layer_channel_2\"], self.attn_dim_head * self.attn_head)\n",
        "    )\n",
        "\n",
        "    # -------- 1x1 conv ---------\n",
        "    self.to_bottleneck_conv = nn.Conv2d(cnn_params[\"inter_layer_channel_2\"], self.attn_head * self.attn_dim_head, kernel_size=1, bias=self.bias_settings)\n",
        "    self.leave_bottleneck_conv = nn.Conv2d(self.attn_head * self.attn_dim_head, cnn_params[\"inter_layer_channel_2\"], kernel_size=1, bias=self.bias_settings)\n",
        "\n",
        "  def sinusoidal_positional_embedding(self, t, dim):\n",
        "    denominator = torch.pow(10000, torch.arange(0, dim, 2).float().to(t.device) / dim)\n",
        "    val = t.float().unsqueeze(-1) / denominator  # (B, dim/2)\n",
        "    positional_embedding = torch.cat([torch.sin(val), torch.cos(val)], dim=-1)  # (B, dim)\n",
        "    return positional_embedding # [B, dim]\n",
        "\n",
        "\n",
        "  def encoder(self, image):\n",
        "    # skip connections for Unet architecture\n",
        "    skip_connections = []\n",
        "\n",
        "    image = self.conv1(image)\n",
        "    image = self.relu(image)\n",
        "    skip_connections.append(image)\n",
        "\n",
        "\n",
        "\n",
        "    image = self.conv2(image)\n",
        "    image = self.relu(image)\n",
        "    skip_connections.append(image)\n",
        "    return image, skip_connections\n",
        "\n",
        "  def decoder(self, image, skip_connections):\n",
        "    image = self.deconv1(image + skip_connections[1])\n",
        "    image = self.relu(image)\n",
        "    image = self.deconv2(image + skip_connections[0])\n",
        "    return image\n",
        "\n",
        "\n",
        "  def forward(self, image, text, timestamp):\n",
        "    # handle timestamp positional embedding\n",
        "    time_embedding = self.sinusoidal_positional_embedding(timestamp, self.time_dim)\n",
        "    time_embedding = self.time_proj(time_embedding)\n",
        "\n",
        "    B, C = time_embedding.shape\n",
        "    time_embedding = time_embedding.view(B, C, 1, 1)\n",
        "    image = image + time_embedding\n",
        "\n",
        "    # handle encoding path of the Unet\n",
        "    image, skip_connections = self.encoder(image)\n",
        "    # handle bottleneck cross attention\n",
        "    \"\"\"\n",
        "    Here is quite complicated and it is strongly recommended to read stable diffusion's paper\n",
        "    https://arxiv.org/pdf/2112.10752.pdf at page 26\n",
        "    For our model, we made a lot, i meant a lot of simplifications due to limited resources\n",
        "\n",
        "    In the original architecture, attention (cross attention is applied in encoder and decoder as well)\n",
        "    For simplicity, we are putting cross attention in the bottleneck, also we ignored the conv layers in the bottleneck as well\n",
        "    \"\"\"\n",
        "    B, C, H, W = image.shape\n",
        "    image = image.view(B, H, W, C)\n",
        "    image = self.bn_layer_norm(image)\n",
        "    image = image.view(B, C, H, W)\n",
        "\n",
        "    # conv2d 1x1\n",
        "    image = self.to_bottleneck_conv(image)\n",
        "\n",
        "    image = image.view(B, H*W, self.attn_head * self.attn_dim_head) # [B, N_image, image_embedding]\n",
        "\n",
        "    attn_time_embedding = self.sinusoidal_positional_embedding(timestamp, self.attn_dim_timestamp)\n",
        "    attn_time_embedding = self.time_proj_2(attn_time_embedding)\n",
        "    attn_time_embedding = attn_time_embedding.unsqueeze(1)\n",
        "\n",
        "    for block in self.attn_blocks:\n",
        "      image = block(image, text, attn_time_embedding)\n",
        "\n",
        "    image = image.view(B, self.attn_head * self.attn_dim_head, H, W)\n",
        "\n",
        "    # conv2d 1x1\n",
        "    image = self.leave_bottleneck_conv(image)\n",
        "    image = image.view(B, C, H, W)\n",
        "\n",
        "    # handle decoding path of the Unet\n",
        "    image = self.decoder(image, skip_connections)\n",
        "\n",
        "    return image\n"
      ]
    },
    {
      "cell_type": "code",
      "execution_count": 268,
      "metadata": {
        "id": "WfI1-PipTiZ3"
      },
      "outputs": [],
      "source": [
        "# these are just dummy variables for testing only\n",
        "\n",
        "cnn_params = {\n",
        "    'kernel_size_1': 3,\n",
        "    'stride_1': 2,\n",
        "    'padding_1': 1,\n",
        "    'kernel_size_2': 3,\n",
        "    'stride_2': 2,\n",
        "    'padding_2': 1,\n",
        "    'inter_layer_channel': 32,\n",
        "    'inter_layer_channel_2': 64\n",
        "}\n",
        "\n",
        "trans_cnn_params = {\n",
        "    'kernel_size_trans_1': 3,\n",
        "    'stride_trans_1': 2,\n",
        "    'padding_trans_1': 1,\n",
        "    'output_padding_trans_1': 1,\n",
        "    'kernel_size_trans_2': 3,\n",
        "    'stride_trans_2': 2,\n",
        "    'padding_trans_2': 1,\n",
        "    'output_padding_trans_2': 1,\n",
        "    'inter_layer_channel_1': 32\n",
        "}\n",
        "\n",
        "attn_params = {\n",
        "    'dim_q': 64,             # same as encoder output channel\n",
        "    'dim_k_v': 128,           # e.g., text embedding dim\n",
        "    'dim_timestamp': 64,     # should match `time_dim`\n",
        "    'head': 4,\n",
        "    'dim_head': 16,\n",
        "    'T': 2                   # number of cross-attention blocks\n",
        "}\n",
        "\n",
        "\n",
        "# Input image tensor: B x C x H x W\n",
        "image = torch.randn(4, 1, 28, 28)  # (B=4, C=3, H=W=64)\n",
        "image = image.to(device)\n",
        "\n",
        "# Text context\n",
        "text = torch.randn(4, 16, 128)  # (B=4, N_text=16, dim_k_v=256)\n",
        "text = text.to(device)\n",
        "\n",
        "# Timestamp input (e.g., diffusion timestep or sequence index)\n",
        "timestamp = torch.tensor([10, 20, 30, 40])  # (B=4,)\n",
        "timestamp = timestamp.to(device)\n",
        "\n",
        "model = UNet(\n",
        "    channel=1,\n",
        "    time_dim=64,\n",
        "    cnn_params=cnn_params,\n",
        "    trans_cnn_params=trans_cnn_params,\n",
        "    attn_params=attn_params,\n",
        "    bias_settings=False\n",
        ")\n",
        "\n",
        "model = model.to(device)"
      ]
    },
    {
      "cell_type": "code",
      "execution_count": 269,
      "metadata": {
        "colab": {
          "base_uri": "https://localhost:8080/"
        },
        "id": "YvhN3jzYWHy8",
        "outputId": "c15b1ff2-96d4-49ec-fdbc-e3586713a950"
      },
      "outputs": [
        {
          "name": "stdout",
          "output_type": "stream",
          "text": [
            "torch.Size([4, 1, 28, 28])\n"
          ]
        }
      ],
      "source": [
        "output = model(image, text, timestamp)\n",
        "print(output.shape)"
      ]
    },
    {
      "cell_type": "markdown",
      "metadata": {
        "id": "acy71Tw98wuJ"
      },
      "source": [
        "# training"
      ]
    },
    {
      "cell_type": "code",
      "execution_count": 270,
      "metadata": {
        "colab": {
          "base_uri": "https://localhost:8080/"
        },
        "id": "oNq6zOCJ8v3x",
        "outputId": "c55fb2f2-3581-4384-b8bd-10cf958bc427"
      },
      "outputs": [
        {
          "name": "stderr",
          "output_type": "stream",
          "text": [
            "Epoch 1 / 250: 100%|██████████| 13/13 [00:00<00:00, 44.08it/s]\n",
            "Epoch 2 / 250: 100%|██████████| 13/13 [00:00<00:00, 51.41it/s]\n",
            "Epoch 3 / 250: 100%|██████████| 13/13 [00:00<00:00, 49.44it/s]\n",
            "Epoch 4 / 250: 100%|██████████| 13/13 [00:00<00:00, 50.39it/s]\n",
            "Epoch 5 / 250: 100%|██████████| 13/13 [00:00<00:00, 50.67it/s]\n",
            "Epoch 6 / 250: 100%|██████████| 13/13 [00:00<00:00, 50.40it/s]\n",
            "Epoch 7 / 250: 100%|██████████| 13/13 [00:00<00:00, 50.23it/s]\n",
            "Epoch 8 / 250: 100%|██████████| 13/13 [00:00<00:00, 49.11it/s]\n",
            "Epoch 9 / 250: 100%|██████████| 13/13 [00:00<00:00, 50.59it/s]\n",
            "Epoch 10 / 250: 100%|██████████| 13/13 [00:00<00:00, 52.01it/s]\n",
            "Epoch 11 / 250: 100%|██████████| 13/13 [00:00<00:00, 50.63it/s]\n",
            "Epoch 12 / 250: 100%|██████████| 13/13 [00:00<00:00, 50.62it/s]\n",
            "Epoch 13 / 250: 100%|██████████| 13/13 [00:00<00:00, 52.04it/s]\n",
            "Epoch 14 / 250: 100%|██████████| 13/13 [00:00<00:00, 50.88it/s]\n",
            "Epoch 15 / 250: 100%|██████████| 13/13 [00:00<00:00, 50.86it/s]\n",
            "Epoch 16 / 250: 100%|██████████| 13/13 [00:00<00:00, 50.25it/s]\n",
            "Epoch 17 / 250: 100%|██████████| 13/13 [00:00<00:00, 51.73it/s]\n",
            "Epoch 18 / 250: 100%|██████████| 13/13 [00:00<00:00, 50.84it/s]\n",
            "Epoch 19 / 250: 100%|██████████| 13/13 [00:00<00:00, 51.16it/s]\n",
            "Epoch 20 / 250: 100%|██████████| 13/13 [00:00<00:00, 50.62it/s]\n",
            "Epoch 21 / 250: 100%|██████████| 13/13 [00:00<00:00, 51.42it/s]\n",
            "Epoch 22 / 250: 100%|██████████| 13/13 [00:00<00:00, 51.39it/s]\n",
            "Epoch 23 / 250: 100%|██████████| 13/13 [00:00<00:00, 48.07it/s]\n",
            "Epoch 24 / 250: 100%|██████████| 13/13 [00:00<00:00, 50.30it/s]\n",
            "Epoch 25 / 250: 100%|██████████| 13/13 [00:00<00:00, 50.94it/s]\n",
            "Epoch 26 / 250: 100%|██████████| 13/13 [00:00<00:00, 47.03it/s]\n",
            "Epoch 27 / 250: 100%|██████████| 13/13 [00:00<00:00, 49.24it/s]\n",
            "Epoch 28 / 250: 100%|██████████| 13/13 [00:00<00:00, 47.34it/s]\n",
            "Epoch 29 / 250: 100%|██████████| 13/13 [00:00<00:00, 45.32it/s]\n",
            "Epoch 30 / 250: 100%|██████████| 13/13 [00:00<00:00, 49.39it/s]\n",
            "Epoch 31 / 250: 100%|██████████| 13/13 [00:00<00:00, 44.25it/s]\n",
            "Epoch 32 / 250: 100%|██████████| 13/13 [00:00<00:00, 48.96it/s]\n",
            "Epoch 33 / 250: 100%|██████████| 13/13 [00:00<00:00, 46.75it/s]\n",
            "Epoch 34 / 250: 100%|██████████| 13/13 [00:00<00:00, 48.30it/s]\n",
            "Epoch 35 / 250: 100%|██████████| 13/13 [00:00<00:00, 49.94it/s]\n",
            "Epoch 36 / 250: 100%|██████████| 13/13 [00:00<00:00, 50.55it/s]\n",
            "Epoch 37 / 250: 100%|██████████| 13/13 [00:00<00:00, 50.87it/s]\n",
            "Epoch 38 / 250: 100%|██████████| 13/13 [00:00<00:00, 49.57it/s]\n",
            "Epoch 39 / 250: 100%|██████████| 13/13 [00:00<00:00, 50.54it/s]\n",
            "Epoch 40 / 250: 100%|██████████| 13/13 [00:00<00:00, 50.14it/s]\n",
            "Epoch 41 / 250: 100%|██████████| 13/13 [00:00<00:00, 49.64it/s]\n",
            "Epoch 42 / 250: 100%|██████████| 13/13 [00:00<00:00, 50.81it/s]\n",
            "Epoch 43 / 250: 100%|██████████| 13/13 [00:00<00:00, 51.53it/s]\n",
            "Epoch 44 / 250: 100%|██████████| 13/13 [00:00<00:00, 51.17it/s]\n",
            "Epoch 45 / 250: 100%|██████████| 13/13 [00:00<00:00, 48.29it/s]\n",
            "Epoch 46 / 250: 100%|██████████| 13/13 [00:00<00:00, 48.93it/s]\n",
            "Epoch 47 / 250: 100%|██████████| 13/13 [00:00<00:00, 50.60it/s]\n",
            "Epoch 48 / 250: 100%|██████████| 13/13 [00:00<00:00, 50.73it/s]\n",
            "Epoch 49 / 250: 100%|██████████| 13/13 [00:00<00:00, 51.00it/s]\n",
            "Epoch 50 / 250: 100%|██████████| 13/13 [00:00<00:00, 50.01it/s]\n",
            "Epoch 51 / 250: 100%|██████████| 13/13 [00:00<00:00, 51.09it/s]\n",
            "Epoch 52 / 250: 100%|██████████| 13/13 [00:00<00:00, 51.20it/s]\n",
            "Epoch 53 / 250: 100%|██████████| 13/13 [00:00<00:00, 50.29it/s]\n",
            "Epoch 54 / 250: 100%|██████████| 13/13 [00:00<00:00, 49.60it/s]\n",
            "Epoch 55 / 250: 100%|██████████| 13/13 [00:00<00:00, 50.85it/s]\n",
            "Epoch 56 / 250: 100%|██████████| 13/13 [00:00<00:00, 50.16it/s]\n",
            "Epoch 57 / 250: 100%|██████████| 13/13 [00:00<00:00, 48.05it/s]\n",
            "Epoch 58 / 250: 100%|██████████| 13/13 [00:00<00:00, 50.33it/s]\n",
            "Epoch 59 / 250: 100%|██████████| 13/13 [00:00<00:00, 50.85it/s]\n",
            "Epoch 60 / 250: 100%|██████████| 13/13 [00:00<00:00, 50.93it/s]\n",
            "Epoch 61 / 250: 100%|██████████| 13/13 [00:00<00:00, 50.27it/s]\n",
            "Epoch 62 / 250: 100%|██████████| 13/13 [00:00<00:00, 50.76it/s]\n",
            "Epoch 63 / 250: 100%|██████████| 13/13 [00:00<00:00, 51.66it/s]\n",
            "Epoch 64 / 250: 100%|██████████| 13/13 [00:00<00:00, 51.06it/s]\n",
            "Epoch 65 / 250: 100%|██████████| 13/13 [00:00<00:00, 49.69it/s]\n",
            "Epoch 66 / 250: 100%|██████████| 13/13 [00:00<00:00, 50.65it/s]\n",
            "Epoch 67 / 250: 100%|██████████| 13/13 [00:00<00:00, 50.58it/s]\n",
            "Epoch 68 / 250: 100%|██████████| 13/13 [00:00<00:00, 51.10it/s]\n",
            "Epoch 69 / 250: 100%|██████████| 13/13 [00:00<00:00, 50.02it/s]\n",
            "Epoch 70 / 250: 100%|██████████| 13/13 [00:00<00:00, 51.55it/s]\n",
            "Epoch 71 / 250: 100%|██████████| 13/13 [00:00<00:00, 51.63it/s]\n",
            "Epoch 72 / 250: 100%|██████████| 13/13 [00:00<00:00, 47.91it/s]\n",
            "Epoch 73 / 250: 100%|██████████| 13/13 [00:00<00:00, 49.34it/s]\n",
            "Epoch 74 / 250: 100%|██████████| 13/13 [00:00<00:00, 48.56it/s]\n",
            "Epoch 75 / 250: 100%|██████████| 13/13 [00:00<00:00, 48.30it/s]\n",
            "Epoch 76 / 250: 100%|██████████| 13/13 [00:00<00:00, 49.57it/s]\n",
            "Epoch 77 / 250: 100%|██████████| 13/13 [00:00<00:00, 48.08it/s]\n",
            "Epoch 78 / 250: 100%|██████████| 13/13 [00:00<00:00, 46.29it/s]\n",
            "Epoch 79 / 250: 100%|██████████| 13/13 [00:00<00:00, 47.24it/s]\n",
            "Epoch 80 / 250: 100%|██████████| 13/13 [00:00<00:00, 49.10it/s]\n",
            "Epoch 81 / 250: 100%|██████████| 13/13 [00:00<00:00, 49.64it/s]\n",
            "Epoch 82 / 250: 100%|██████████| 13/13 [00:00<00:00, 51.32it/s]\n",
            "Epoch 83 / 250: 100%|██████████| 13/13 [00:00<00:00, 50.03it/s]\n",
            "Epoch 84 / 250: 100%|██████████| 13/13 [00:00<00:00, 48.39it/s]\n",
            "Epoch 85 / 250: 100%|██████████| 13/13 [00:00<00:00, 50.64it/s]\n",
            "Epoch 86 / 250: 100%|██████████| 13/13 [00:00<00:00, 51.16it/s]\n",
            "Epoch 87 / 250: 100%|██████████| 13/13 [00:00<00:00, 49.49it/s]\n",
            "Epoch 88 / 250: 100%|██████████| 13/13 [00:00<00:00, 48.91it/s]\n",
            "Epoch 89 / 250: 100%|██████████| 13/13 [00:00<00:00, 49.83it/s]\n",
            "Epoch 90 / 250: 100%|██████████| 13/13 [00:00<00:00, 50.14it/s]\n",
            "Epoch 91 / 250: 100%|██████████| 13/13 [00:00<00:00, 49.76it/s]\n",
            "Epoch 92 / 250: 100%|██████████| 13/13 [00:00<00:00, 50.55it/s]\n",
            "Epoch 93 / 250: 100%|██████████| 13/13 [00:00<00:00, 50.58it/s]\n",
            "Epoch 94 / 250: 100%|██████████| 13/13 [00:00<00:00, 50.83it/s]\n",
            "Epoch 95 / 250: 100%|██████████| 13/13 [00:00<00:00, 47.82it/s]\n",
            "Epoch 96 / 250: 100%|██████████| 13/13 [00:00<00:00, 47.94it/s]\n",
            "Epoch 97 / 250: 100%|██████████| 13/13 [00:00<00:00, 51.22it/s]\n",
            "Epoch 98 / 250: 100%|██████████| 13/13 [00:00<00:00, 50.05it/s]\n",
            "Epoch 99 / 250: 100%|██████████| 13/13 [00:00<00:00, 49.84it/s]\n",
            "Epoch 100 / 250: 100%|██████████| 13/13 [00:00<00:00, 50.81it/s]\n",
            "Epoch 101 / 250: 100%|██████████| 13/13 [00:00<00:00, 50.92it/s]\n",
            "Epoch 102 / 250: 100%|██████████| 13/13 [00:00<00:00, 49.74it/s]\n",
            "Epoch 103 / 250: 100%|██████████| 13/13 [00:00<00:00, 50.17it/s]\n",
            "Epoch 104 / 250: 100%|██████████| 13/13 [00:00<00:00, 50.03it/s]\n",
            "Epoch 105 / 250: 100%|██████████| 13/13 [00:00<00:00, 50.23it/s]\n",
            "Epoch 106 / 250: 100%|██████████| 13/13 [00:00<00:00, 49.75it/s]\n",
            "Epoch 107 / 250: 100%|██████████| 13/13 [00:00<00:00, 49.94it/s]\n",
            "Epoch 108 / 250: 100%|██████████| 13/13 [00:00<00:00, 50.81it/s]\n",
            "Epoch 109 / 250: 100%|██████████| 13/13 [00:00<00:00, 50.06it/s]\n",
            "Epoch 110 / 250: 100%|██████████| 13/13 [00:00<00:00, 50.70it/s]\n",
            "Epoch 111 / 250: 100%|██████████| 13/13 [00:00<00:00, 49.50it/s]\n",
            "Epoch 112 / 250: 100%|██████████| 13/13 [00:00<00:00, 50.93it/s]\n",
            "Epoch 113 / 250: 100%|██████████| 13/13 [00:00<00:00, 51.30it/s]\n",
            "Epoch 114 / 250: 100%|██████████| 13/13 [00:00<00:00, 48.92it/s]\n",
            "Epoch 115 / 250: 100%|██████████| 13/13 [00:00<00:00, 50.05it/s]\n",
            "Epoch 116 / 250: 100%|██████████| 13/13 [00:00<00:00, 50.25it/s]\n",
            "Epoch 117 / 250: 100%|██████████| 13/13 [00:00<00:00, 50.96it/s]\n",
            "Epoch 118 / 250: 100%|██████████| 13/13 [00:00<00:00, 47.96it/s]\n",
            "Epoch 119 / 250: 100%|██████████| 13/13 [00:00<00:00, 49.54it/s]\n",
            "Epoch 120 / 250: 100%|██████████| 13/13 [00:00<00:00, 45.82it/s]\n",
            "Epoch 121 / 250: 100%|██████████| 13/13 [00:00<00:00, 47.59it/s]\n",
            "Epoch 122 / 250: 100%|██████████| 13/13 [00:00<00:00, 48.26it/s]\n",
            "Epoch 123 / 250: 100%|██████████| 13/13 [00:00<00:00, 46.89it/s]\n",
            "Epoch 124 / 250: 100%|██████████| 13/13 [00:00<00:00, 47.35it/s]\n",
            "Epoch 125 / 250: 100%|██████████| 13/13 [00:00<00:00, 49.63it/s]\n",
            "Epoch 126 / 250: 100%|██████████| 13/13 [00:00<00:00, 50.51it/s]\n",
            "Epoch 127 / 250: 100%|██████████| 13/13 [00:00<00:00, 48.80it/s]\n",
            "Epoch 128 / 250: 100%|██████████| 13/13 [00:00<00:00, 50.40it/s]\n",
            "Epoch 129 / 250: 100%|██████████| 13/13 [00:00<00:00, 49.86it/s]\n",
            "Epoch 130 / 250: 100%|██████████| 13/13 [00:00<00:00, 49.82it/s]\n",
            "Epoch 131 / 250: 100%|██████████| 13/13 [00:00<00:00, 49.44it/s]\n",
            "Epoch 132 / 250: 100%|██████████| 13/13 [00:00<00:00, 49.50it/s]\n",
            "Epoch 133 / 250: 100%|██████████| 13/13 [00:00<00:00, 50.03it/s]\n",
            "Epoch 134 / 250: 100%|██████████| 13/13 [00:00<00:00, 48.60it/s]\n",
            "Epoch 135 / 250: 100%|██████████| 13/13 [00:00<00:00, 50.02it/s]\n",
            "Epoch 136 / 250: 100%|██████████| 13/13 [00:00<00:00, 50.53it/s]\n",
            "Epoch 137 / 250: 100%|██████████| 13/13 [00:00<00:00, 50.02it/s]\n",
            "Epoch 138 / 250: 100%|██████████| 13/13 [00:00<00:00, 49.52it/s]\n",
            "Epoch 139 / 250: 100%|██████████| 13/13 [00:00<00:00, 50.16it/s]\n",
            "Epoch 140 / 250: 100%|██████████| 13/13 [00:00<00:00, 50.33it/s]\n",
            "Epoch 141 / 250: 100%|██████████| 13/13 [00:00<00:00, 50.02it/s]\n",
            "Epoch 142 / 250: 100%|██████████| 13/13 [00:00<00:00, 50.29it/s]\n",
            "Epoch 143 / 250: 100%|██████████| 13/13 [00:00<00:00, 50.38it/s]\n",
            "Epoch 144 / 250: 100%|██████████| 13/13 [00:00<00:00, 50.53it/s]\n",
            "Epoch 145 / 250: 100%|██████████| 13/13 [00:00<00:00, 50.80it/s]\n",
            "Epoch 146 / 250: 100%|██████████| 13/13 [00:00<00:00, 50.66it/s]\n",
            "Epoch 147 / 250: 100%|██████████| 13/13 [00:00<00:00, 49.51it/s]\n",
            "Epoch 148 / 250: 100%|██████████| 13/13 [00:00<00:00, 50.45it/s]\n",
            "Epoch 149 / 250: 100%|██████████| 13/13 [00:00<00:00, 50.98it/s]\n",
            "Epoch 150 / 250: 100%|██████████| 13/13 [00:00<00:00, 51.11it/s]\n",
            "Epoch 151 / 250: 100%|██████████| 13/13 [00:00<00:00, 50.97it/s]\n",
            "Epoch 152 / 250: 100%|██████████| 13/13 [00:00<00:00, 50.52it/s]\n",
            "Epoch 153 / 250: 100%|██████████| 13/13 [00:00<00:00, 49.79it/s]\n",
            "Epoch 154 / 250: 100%|██████████| 13/13 [00:00<00:00, 50.40it/s]\n",
            "Epoch 155 / 250: 100%|██████████| 13/13 [00:00<00:00, 49.69it/s]\n",
            "Epoch 156 / 250: 100%|██████████| 13/13 [00:00<00:00, 51.11it/s]\n",
            "Epoch 157 / 250: 100%|██████████| 13/13 [00:00<00:00, 50.72it/s]\n",
            "Epoch 158 / 250: 100%|██████████| 13/13 [00:00<00:00, 45.74it/s]\n",
            "Epoch 159 / 250: 100%|██████████| 13/13 [00:00<00:00, 49.41it/s]\n",
            "Epoch 160 / 250: 100%|██████████| 13/13 [00:00<00:00, 50.17it/s]\n",
            "Epoch 161 / 250: 100%|██████████| 13/13 [00:00<00:00, 50.70it/s]\n",
            "Epoch 162 / 250: 100%|██████████| 13/13 [00:00<00:00, 50.13it/s]\n",
            "Epoch 163 / 250: 100%|██████████| 13/13 [00:00<00:00, 49.85it/s]\n",
            "Epoch 164 / 250: 100%|██████████| 13/13 [00:00<00:00, 47.25it/s]\n",
            "Epoch 165 / 250: 100%|██████████| 13/13 [00:00<00:00, 48.92it/s]\n",
            "Epoch 166 / 250: 100%|██████████| 13/13 [00:00<00:00, 46.23it/s]\n",
            "Epoch 167 / 250: 100%|██████████| 13/13 [00:00<00:00, 48.34it/s]\n",
            "Epoch 168 / 250: 100%|██████████| 13/13 [00:00<00:00, 48.08it/s]\n",
            "Epoch 169 / 250: 100%|██████████| 13/13 [00:00<00:00, 50.01it/s]\n",
            "Epoch 170 / 250: 100%|██████████| 13/13 [00:00<00:00, 48.15it/s]\n",
            "Epoch 171 / 250: 100%|██████████| 13/13 [00:00<00:00, 47.02it/s]\n",
            "Epoch 172 / 250: 100%|██████████| 13/13 [00:00<00:00, 49.93it/s]\n",
            "Epoch 173 / 250: 100%|██████████| 13/13 [00:00<00:00, 49.45it/s]\n",
            "Epoch 174 / 250: 100%|██████████| 13/13 [00:00<00:00, 47.03it/s]\n",
            "Epoch 175 / 250: 100%|██████████| 13/13 [00:00<00:00, 49.15it/s]\n",
            "Epoch 176 / 250: 100%|██████████| 13/13 [00:00<00:00, 49.40it/s]\n",
            "Epoch 177 / 250: 100%|██████████| 13/13 [00:00<00:00, 49.89it/s]\n",
            "Epoch 178 / 250: 100%|██████████| 13/13 [00:00<00:00, 49.09it/s]\n",
            "Epoch 179 / 250: 100%|██████████| 13/13 [00:00<00:00, 49.37it/s]\n",
            "Epoch 180 / 250: 100%|██████████| 13/13 [00:00<00:00, 50.18it/s]\n",
            "Epoch 181 / 250: 100%|██████████| 13/13 [00:00<00:00, 48.65it/s]\n",
            "Epoch 182 / 250: 100%|██████████| 13/13 [00:00<00:00, 49.28it/s]\n",
            "Epoch 183 / 250: 100%|██████████| 13/13 [00:00<00:00, 50.74it/s]\n",
            "Epoch 184 / 250: 100%|██████████| 13/13 [00:00<00:00, 50.53it/s]\n",
            "Epoch 185 / 250: 100%|██████████| 13/13 [00:00<00:00, 49.45it/s]\n",
            "Epoch 186 / 250: 100%|██████████| 13/13 [00:00<00:00, 48.06it/s]\n",
            "Epoch 187 / 250: 100%|██████████| 13/13 [00:00<00:00, 50.63it/s]\n",
            "Epoch 188 / 250: 100%|██████████| 13/13 [00:00<00:00, 50.85it/s]\n",
            "Epoch 189 / 250: 100%|██████████| 13/13 [00:00<00:00, 49.38it/s]\n",
            "Epoch 190 / 250: 100%|██████████| 13/13 [00:00<00:00, 49.44it/s]\n",
            "Epoch 191 / 250: 100%|██████████| 13/13 [00:00<00:00, 51.19it/s]\n",
            "Epoch 192 / 250: 100%|██████████| 13/13 [00:00<00:00, 49.45it/s]\n",
            "Epoch 193 / 250: 100%|██████████| 13/13 [00:00<00:00, 49.52it/s]\n",
            "Epoch 194 / 250: 100%|██████████| 13/13 [00:00<00:00, 49.33it/s]\n",
            "Epoch 195 / 250: 100%|██████████| 13/13 [00:00<00:00, 50.59it/s]\n",
            "Epoch 196 / 250: 100%|██████████| 13/13 [00:00<00:00, 50.45it/s]\n",
            "Epoch 197 / 250: 100%|██████████| 13/13 [00:00<00:00, 49.28it/s]\n",
            "Epoch 198 / 250: 100%|██████████| 13/13 [00:00<00:00, 49.49it/s]\n",
            "Epoch 199 / 250: 100%|██████████| 13/13 [00:00<00:00, 49.92it/s]\n",
            "Epoch 200 / 250: 100%|██████████| 13/13 [00:00<00:00, 49.89it/s]\n",
            "Epoch 201 / 250: 100%|██████████| 13/13 [00:00<00:00, 49.78it/s]\n",
            "Epoch 202 / 250: 100%|██████████| 13/13 [00:00<00:00, 50.89it/s]\n",
            "Epoch 203 / 250: 100%|██████████| 13/13 [00:00<00:00, 50.07it/s]\n",
            "Epoch 204 / 250: 100%|██████████| 13/13 [00:00<00:00, 50.52it/s]\n",
            "Epoch 205 / 250: 100%|██████████| 13/13 [00:00<00:00, 50.18it/s]\n",
            "Epoch 206 / 250: 100%|██████████| 13/13 [00:00<00:00, 51.25it/s]\n",
            "Epoch 207 / 250: 100%|██████████| 13/13 [00:00<00:00, 50.95it/s]\n",
            "Epoch 208 / 250: 100%|██████████| 13/13 [00:00<00:00, 44.73it/s]\n",
            "Epoch 209 / 250: 100%|██████████| 13/13 [00:00<00:00, 47.22it/s]\n",
            "Epoch 210 / 250: 100%|██████████| 13/13 [00:00<00:00, 50.11it/s]\n",
            "Epoch 211 / 250: 100%|██████████| 13/13 [00:00<00:00, 48.39it/s]\n",
            "Epoch 212 / 250: 100%|██████████| 13/13 [00:00<00:00, 48.36it/s]\n",
            "Epoch 213 / 250: 100%|██████████| 13/13 [00:00<00:00, 49.29it/s]\n",
            "Epoch 214 / 250: 100%|██████████| 13/13 [00:00<00:00, 48.64it/s]\n",
            "Epoch 215 / 250: 100%|██████████| 13/13 [00:00<00:00, 46.83it/s]\n",
            "Epoch 216 / 250: 100%|██████████| 13/13 [00:00<00:00, 44.77it/s]\n",
            "Epoch 217 / 250: 100%|██████████| 13/13 [00:00<00:00, 49.59it/s]\n",
            "Epoch 218 / 250: 100%|██████████| 13/13 [00:00<00:00, 50.59it/s]\n",
            "Epoch 219 / 250: 100%|██████████| 13/13 [00:00<00:00, 49.82it/s]\n",
            "Epoch 220 / 250: 100%|██████████| 13/13 [00:00<00:00, 48.31it/s]\n",
            "Epoch 221 / 250: 100%|██████████| 13/13 [00:00<00:00, 49.13it/s]\n",
            "Epoch 222 / 250: 100%|██████████| 13/13 [00:00<00:00, 50.53it/s]\n",
            "Epoch 223 / 250: 100%|██████████| 13/13 [00:00<00:00, 49.24it/s]\n",
            "Epoch 224 / 250: 100%|██████████| 13/13 [00:00<00:00, 49.00it/s]\n",
            "Epoch 225 / 250: 100%|██████████| 13/13 [00:00<00:00, 51.26it/s]\n",
            "Epoch 226 / 250: 100%|██████████| 13/13 [00:00<00:00, 50.84it/s]\n",
            "Epoch 227 / 250: 100%|██████████| 13/13 [00:00<00:00, 50.61it/s]\n",
            "Epoch 228 / 250: 100%|██████████| 13/13 [00:00<00:00, 49.05it/s]\n",
            "Epoch 229 / 250: 100%|██████████| 13/13 [00:00<00:00, 50.88it/s]\n",
            "Epoch 230 / 250: 100%|██████████| 13/13 [00:00<00:00, 51.38it/s]\n",
            "Epoch 231 / 250: 100%|██████████| 13/13 [00:00<00:00, 50.19it/s]\n",
            "Epoch 232 / 250: 100%|██████████| 13/13 [00:00<00:00, 50.16it/s]\n",
            "Epoch 233 / 250: 100%|██████████| 13/13 [00:00<00:00, 50.18it/s]\n",
            "Epoch 234 / 250: 100%|██████████| 13/13 [00:00<00:00, 50.05it/s]\n",
            "Epoch 235 / 250: 100%|██████████| 13/13 [00:00<00:00, 50.05it/s]\n",
            "Epoch 236 / 250: 100%|██████████| 13/13 [00:00<00:00, 50.38it/s]\n",
            "Epoch 237 / 250: 100%|██████████| 13/13 [00:00<00:00, 50.33it/s]\n",
            "Epoch 238 / 250: 100%|██████████| 13/13 [00:00<00:00, 50.07it/s]\n",
            "Epoch 239 / 250: 100%|██████████| 13/13 [00:00<00:00, 49.91it/s]\n",
            "Epoch 240 / 250: 100%|██████████| 13/13 [00:00<00:00, 51.62it/s]\n",
            "Epoch 241 / 250: 100%|██████████| 13/13 [00:00<00:00, 51.74it/s]\n",
            "Epoch 242 / 250: 100%|██████████| 13/13 [00:00<00:00, 51.86it/s]\n",
            "Epoch 243 / 250: 100%|██████████| 13/13 [00:00<00:00, 51.24it/s]\n",
            "Epoch 244 / 250: 100%|██████████| 13/13 [00:00<00:00, 51.17it/s]\n",
            "Epoch 245 / 250: 100%|██████████| 13/13 [00:00<00:00, 51.62it/s]\n",
            "Epoch 246 / 250: 100%|██████████| 13/13 [00:00<00:00, 51.76it/s]\n",
            "Epoch 247 / 250: 100%|██████████| 13/13 [00:00<00:00, 50.19it/s]\n",
            "Epoch 248 / 250: 100%|██████████| 13/13 [00:00<00:00, 50.80it/s]\n",
            "Epoch 249 / 250: 100%|██████████| 13/13 [00:00<00:00, 51.46it/s]\n",
            "Epoch 250 / 250: 100%|██████████| 13/13 [00:00<00:00, 51.46it/s]\n"
          ]
        }
      ],
      "source": [
        "T = 1000  # total diffusion steps\n",
        "beta = torch.linspace(1e-4, 0.02, T).to(device)\n",
        "alpha = 1. - beta\n",
        "alpha_bar = torch.cumprod(alpha, dim=0)  # cumulative product\n",
        "# model instantiate above\n",
        "#text_encoder = TextEncoder().to(device)\n",
        "optimizer = torch.optim.Adam(list(model.parameters()) + list(text_encoder.parameters()), lr=1e-3)\n",
        "\n",
        "epochs = 250\n",
        "for epoch in range(epochs):\n",
        "    pbar = tqdm(train_loader)\n",
        "    pbar.set_description(f\"Epoch {epoch + 1} / {epochs}\")\n",
        "    for x, y in pbar:\n",
        "        x = x.to(device)  # shape: [B, 1, 28, 28]\n",
        "\n",
        "        t = torch.randint(0, T, (x.size(0),), device=device)  # random timestep per sample\n",
        "        alpha_t = alpha_bar[t][:, None, None, None]  # shape: [B, 1, 1, 1]\n",
        "        # print(alpha_t)\n",
        "        noise = torch.randn_like(x)\n",
        "        x_t = torch.sqrt(alpha_t) * x + torch.sqrt(1 - alpha_t) * noise\n",
        "\n",
        "        text_embed = text_encoder(y)\n",
        "\n",
        "        pred_noise = model(x_t, text_embed, t)\n",
        "        loss = F.mse_loss(pred_noise, noise)\n",
        "\n",
        "        optimizer.zero_grad()\n",
        "        loss.backward()\n",
        "        optimizer.step()"
      ]
    },
    {
      "cell_type": "code",
      "execution_count": null,
      "metadata": {
        "id": "AoMMsXgYA_8s"
      },
      "outputs": [],
      "source": [
        "@torch.no_grad()\n",
        "def sample(description, model, text_encoder,seed=42,  img_size=28, T=1000):\n",
        "    model.eval()\n",
        "    text_encoder.eval()\n",
        "\n",
        "    gen = torch.Generator(device=device)\n",
        "    gen.manual_seed(seed)\n",
        "\n",
        "    text_embed = text_encoder([description])\n",
        "\n",
        "    x = torch.randn(1, 1, img_size, img_size, device=device, generator=gen)\n",
        "\n",
        "    eps = 1e-5 \n",
        "\n",
        "    for t in reversed(range(T)):\n",
        "        t_batch = torch.tensor([t], device=device)\n",
        "\n",
        "        pred_noise = model(x, text_embed, t_batch)\n",
        "        pred_noise = pred_noise.clamp(-1.5, 1.5)\n",
        "\n",
        "        alpha_t = torch.clamp(alpha[t], min=eps)\n",
        "        alpha_bar_t = torch.clamp(alpha_bar[t], min=eps)\n",
        "\n",
        "        # DDPM denoising step (deterministic, simplified)\n",
        "        x = (x - ((1 - alpha_t).sqrt() * pred_noise / alpha_bar_t.sqrt())) / alpha_t.sqrt()\n",
        "\n",
        "        if torch.isnan(x).any():\n",
        "            print(f\"NaN detected at timestep {t}\")\n",
        "            break\n",
        "\n",
        "    return x"
      ]
    },
    {
      "cell_type": "code",
      "execution_count": 273,
      "metadata": {
        "colab": {
          "base_uri": "https://localhost:8080/",
          "height": 320
        },
        "id": "VRRSVtf4F5rR",
        "outputId": "ba82a0e1-5cd8-4a51-8ad5-523a70b19376"
      },
      "outputs": [
        {
          "data": {
            "image/png": "[encoded data removed]",
            "text/plain": [
              "<Figure size 1200x300 with 4 Axes>"
            ]
          },
          "metadata": {},
          "output_type": "display_data"
        }
      ],
      "source": [
        "import matplotlib.pyplot as plt\n",
        "\n",
        "img1 = sample(\"classic summer outerwear coat\", model, text_encoder)\n",
        "img2 = sample(\"formal fashion long dress\", model, text_encoder)\n",
        "img3 = sample(\"open toe strappy summer slide sandal\", model, text_encoder)\n",
        "img4 = sample(\"texttured high heel modern style ankleboot\", model, text_encoder)\n",
        "\n",
        "\n",
        "plt.figure(figsize=(12, 3))\n",
        "\n",
        "images = [img1, img2, img3, img4]\n",
        "titles = [\"coat\", \"long dress\", \"summer slide sandal\", \"ankle boot\"]\n",
        "\n",
        "for i in range(4):\n",
        "    plt.subplot(1, 4, i + 1)\n",
        "    plt.imshow((images[i].squeeze().cpu().clamp(-1, 1) + 1) / 2, cmap='gray')\n",
        "    plt.title(titles[i])\n",
        "    plt.axis('off')\n",
        "\n",
        "plt.tight_layout()\n",
        "plt.show()\n"
      ]
    },
    {
      "cell_type": "code",
      "execution_count": null,
      "metadata": {
        "id": "MxRVfAk6F8pd"
      },
      "outputs": [],
      "source": []
    }
  ],
  "metadata": {
    "accelerator": "GPU",
    "colab": {
      "gpuType": "T4",
      "machine_shape": "hm",
      "provenance": []
    },
    "kernelspec": {
      "display_name": "Python 3",
      "name": "python3"
    },
    "language_info": {
      "name": "python"
    }
  },
  "nbformat": 4,
  "nbformat_minor": 0
}
